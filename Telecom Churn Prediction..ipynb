{
 "cells": [
  {
   "cell_type": "markdown",
   "id": "6866082b",
   "metadata": {},
   "source": [
    "The Core Objectives of this project is to analyse and build a model for a Telecommunication company on her Churn data.\n",
    "\n",
    "We will be exploring the data and build a classification model to find the most accurate of all."
   ]
  },
  {
   "cell_type": "code",
   "execution_count": 1,
   "id": "d3b439ff",
   "metadata": {},
   "outputs": [],
   "source": [
    "#import needed libraries\n",
    "import pandas as pd\n",
    "import numpy as np\n",
    "import matplotlib as mlt\n",
    "import matplotlib.pyplot as plt\n",
    "import seaborn as sns\n",
    "from sklearn.model_selection import train_test_split\n",
    "from sklearn.linear_model import LogisticRegression\n",
    "from sklearn.metrics import confusion_matrix\n",
    "import pandas_profiling as pp"
   ]
  },
  {
   "cell_type": "code",
   "execution_count": 2,
   "id": "8b92a7dd",
   "metadata": {},
   "outputs": [
    {
     "data": {
      "text/html": [
       "<div>\n",
       "<style scoped>\n",
       "    .dataframe tbody tr th:only-of-type {\n",
       "        vertical-align: middle;\n",
       "    }\n",
       "\n",
       "    .dataframe tbody tr th {\n",
       "        vertical-align: top;\n",
       "    }\n",
       "\n",
       "    .dataframe thead th {\n",
       "        text-align: right;\n",
       "    }\n",
       "</style>\n",
       "<table border=\"1\" class=\"dataframe\">\n",
       "  <thead>\n",
       "    <tr style=\"text-align: right;\">\n",
       "      <th></th>\n",
       "      <th>Customer ID</th>\n",
       "      <th>Gender</th>\n",
       "      <th>Age</th>\n",
       "      <th>Married</th>\n",
       "      <th>Number of Dependents</th>\n",
       "      <th>City</th>\n",
       "      <th>Zip Code</th>\n",
       "      <th>Latitude</th>\n",
       "      <th>Longitude</th>\n",
       "      <th>Number of Referrals</th>\n",
       "      <th>...</th>\n",
       "      <th>Payment Method</th>\n",
       "      <th>Monthly Charge</th>\n",
       "      <th>Total Charges</th>\n",
       "      <th>Total Refunds</th>\n",
       "      <th>Total Extra Data Charges</th>\n",
       "      <th>Total Long Distance Charges</th>\n",
       "      <th>Total Revenue</th>\n",
       "      <th>Customer Status</th>\n",
       "      <th>Churn Category</th>\n",
       "      <th>Churn Reason</th>\n",
       "    </tr>\n",
       "  </thead>\n",
       "  <tbody>\n",
       "    <tr>\n",
       "      <th>0</th>\n",
       "      <td>0002-ORFBO</td>\n",
       "      <td>Female</td>\n",
       "      <td>37</td>\n",
       "      <td>Yes</td>\n",
       "      <td>0</td>\n",
       "      <td>Frazier Park</td>\n",
       "      <td>93225</td>\n",
       "      <td>34.827662</td>\n",
       "      <td>-118.999073</td>\n",
       "      <td>2</td>\n",
       "      <td>...</td>\n",
       "      <td>Credit Card</td>\n",
       "      <td>65.6</td>\n",
       "      <td>593.30</td>\n",
       "      <td>0.00</td>\n",
       "      <td>0</td>\n",
       "      <td>381.51</td>\n",
       "      <td>974.81</td>\n",
       "      <td>Stayed</td>\n",
       "      <td>NaN</td>\n",
       "      <td>NaN</td>\n",
       "    </tr>\n",
       "    <tr>\n",
       "      <th>1</th>\n",
       "      <td>0003-MKNFE</td>\n",
       "      <td>Male</td>\n",
       "      <td>46</td>\n",
       "      <td>No</td>\n",
       "      <td>0</td>\n",
       "      <td>Glendale</td>\n",
       "      <td>91206</td>\n",
       "      <td>34.162515</td>\n",
       "      <td>-118.203869</td>\n",
       "      <td>0</td>\n",
       "      <td>...</td>\n",
       "      <td>Credit Card</td>\n",
       "      <td>-4.0</td>\n",
       "      <td>542.40</td>\n",
       "      <td>38.33</td>\n",
       "      <td>10</td>\n",
       "      <td>96.21</td>\n",
       "      <td>610.28</td>\n",
       "      <td>Stayed</td>\n",
       "      <td>NaN</td>\n",
       "      <td>NaN</td>\n",
       "    </tr>\n",
       "    <tr>\n",
       "      <th>2</th>\n",
       "      <td>0004-TLHLJ</td>\n",
       "      <td>Male</td>\n",
       "      <td>50</td>\n",
       "      <td>No</td>\n",
       "      <td>0</td>\n",
       "      <td>Costa Mesa</td>\n",
       "      <td>92627</td>\n",
       "      <td>33.645672</td>\n",
       "      <td>-117.922613</td>\n",
       "      <td>0</td>\n",
       "      <td>...</td>\n",
       "      <td>Bank Withdrawal</td>\n",
       "      <td>73.9</td>\n",
       "      <td>280.85</td>\n",
       "      <td>0.00</td>\n",
       "      <td>0</td>\n",
       "      <td>134.60</td>\n",
       "      <td>415.45</td>\n",
       "      <td>Churned</td>\n",
       "      <td>Competitor</td>\n",
       "      <td>Competitor had better devices</td>\n",
       "    </tr>\n",
       "    <tr>\n",
       "      <th>3</th>\n",
       "      <td>0011-IGKFF</td>\n",
       "      <td>Male</td>\n",
       "      <td>78</td>\n",
       "      <td>Yes</td>\n",
       "      <td>0</td>\n",
       "      <td>Martinez</td>\n",
       "      <td>94553</td>\n",
       "      <td>38.014457</td>\n",
       "      <td>-122.115432</td>\n",
       "      <td>1</td>\n",
       "      <td>...</td>\n",
       "      <td>Bank Withdrawal</td>\n",
       "      <td>98.0</td>\n",
       "      <td>1237.85</td>\n",
       "      <td>0.00</td>\n",
       "      <td>0</td>\n",
       "      <td>361.66</td>\n",
       "      <td>1599.51</td>\n",
       "      <td>Churned</td>\n",
       "      <td>Dissatisfaction</td>\n",
       "      <td>Product dissatisfaction</td>\n",
       "    </tr>\n",
       "    <tr>\n",
       "      <th>4</th>\n",
       "      <td>0013-EXCHZ</td>\n",
       "      <td>Female</td>\n",
       "      <td>75</td>\n",
       "      <td>Yes</td>\n",
       "      <td>0</td>\n",
       "      <td>Camarillo</td>\n",
       "      <td>93010</td>\n",
       "      <td>34.227846</td>\n",
       "      <td>-119.079903</td>\n",
       "      <td>3</td>\n",
       "      <td>...</td>\n",
       "      <td>Credit Card</td>\n",
       "      <td>83.9</td>\n",
       "      <td>267.40</td>\n",
       "      <td>0.00</td>\n",
       "      <td>0</td>\n",
       "      <td>22.14</td>\n",
       "      <td>289.54</td>\n",
       "      <td>Churned</td>\n",
       "      <td>Dissatisfaction</td>\n",
       "      <td>Network reliability</td>\n",
       "    </tr>\n",
       "  </tbody>\n",
       "</table>\n",
       "<p>5 rows × 38 columns</p>\n",
       "</div>"
      ],
      "text/plain": [
       "  Customer ID  Gender  Age Married  Number of Dependents          City  \\\n",
       "0  0002-ORFBO  Female   37     Yes                     0  Frazier Park   \n",
       "1  0003-MKNFE    Male   46      No                     0      Glendale   \n",
       "2  0004-TLHLJ    Male   50      No                     0    Costa Mesa   \n",
       "3  0011-IGKFF    Male   78     Yes                     0      Martinez   \n",
       "4  0013-EXCHZ  Female   75     Yes                     0     Camarillo   \n",
       "\n",
       "   Zip Code   Latitude   Longitude  Number of Referrals  ...   Payment Method  \\\n",
       "0     93225  34.827662 -118.999073                    2  ...      Credit Card   \n",
       "1     91206  34.162515 -118.203869                    0  ...      Credit Card   \n",
       "2     92627  33.645672 -117.922613                    0  ...  Bank Withdrawal   \n",
       "3     94553  38.014457 -122.115432                    1  ...  Bank Withdrawal   \n",
       "4     93010  34.227846 -119.079903                    3  ...      Credit Card   \n",
       "\n",
       "  Monthly Charge Total Charges  Total Refunds Total Extra Data Charges  \\\n",
       "0           65.6        593.30           0.00                        0   \n",
       "1           -4.0        542.40          38.33                       10   \n",
       "2           73.9        280.85           0.00                        0   \n",
       "3           98.0       1237.85           0.00                        0   \n",
       "4           83.9        267.40           0.00                        0   \n",
       "\n",
       "  Total Long Distance Charges Total Revenue  Customer Status   Churn Category  \\\n",
       "0                      381.51        974.81           Stayed              NaN   \n",
       "1                       96.21        610.28           Stayed              NaN   \n",
       "2                      134.60        415.45          Churned       Competitor   \n",
       "3                      361.66       1599.51          Churned  Dissatisfaction   \n",
       "4                       22.14        289.54          Churned  Dissatisfaction   \n",
       "\n",
       "                    Churn Reason  \n",
       "0                            NaN  \n",
       "1                            NaN  \n",
       "2  Competitor had better devices  \n",
       "3        Product dissatisfaction  \n",
       "4            Network reliability  \n",
       "\n",
       "[5 rows x 38 columns]"
      ]
     },
     "execution_count": 2,
     "metadata": {},
     "output_type": "execute_result"
    }
   ],
   "source": [
    "#Read data and show first five rows\n",
    "df = pd.read_csv(r\"C:\\Users\\elegb\\Desktop\\pdf\\telecom\\telecom_customer_churn.csv\")\n",
    "df.head()"
   ]
  },
  {
   "cell_type": "markdown",
   "id": "eca6d22d",
   "metadata": {},
   "source": [
    "EXPLORATORY DATA  ANALYSIS AND VISUALIZATIONS"
   ]
  },
  {
   "cell_type": "code",
   "execution_count": 3,
   "id": "1214e126",
   "metadata": {},
   "outputs": [
    {
     "data": {
      "text/html": [
       "<div>\n",
       "<style scoped>\n",
       "    .dataframe tbody tr th:only-of-type {\n",
       "        vertical-align: middle;\n",
       "    }\n",
       "\n",
       "    .dataframe tbody tr th {\n",
       "        vertical-align: top;\n",
       "    }\n",
       "\n",
       "    .dataframe thead th {\n",
       "        text-align: right;\n",
       "    }\n",
       "</style>\n",
       "<table border=\"1\" class=\"dataframe\">\n",
       "  <thead>\n",
       "    <tr style=\"text-align: right;\">\n",
       "      <th></th>\n",
       "      <th>Age</th>\n",
       "      <th>Number of Dependents</th>\n",
       "      <th>Zip Code</th>\n",
       "      <th>Latitude</th>\n",
       "      <th>Longitude</th>\n",
       "      <th>Number of Referrals</th>\n",
       "      <th>Tenure in Months</th>\n",
       "      <th>Avg Monthly Long Distance Charges</th>\n",
       "      <th>Avg Monthly GB Download</th>\n",
       "      <th>Monthly Charge</th>\n",
       "      <th>Total Charges</th>\n",
       "      <th>Total Refunds</th>\n",
       "      <th>Total Extra Data Charges</th>\n",
       "      <th>Total Long Distance Charges</th>\n",
       "      <th>Total Revenue</th>\n",
       "    </tr>\n",
       "  </thead>\n",
       "  <tbody>\n",
       "    <tr>\n",
       "      <th>count</th>\n",
       "      <td>7043.000000</td>\n",
       "      <td>7043.000000</td>\n",
       "      <td>7043.000000</td>\n",
       "      <td>7043.000000</td>\n",
       "      <td>7043.000000</td>\n",
       "      <td>7043.000000</td>\n",
       "      <td>7043.000000</td>\n",
       "      <td>6361.000000</td>\n",
       "      <td>5517.000000</td>\n",
       "      <td>7043.000000</td>\n",
       "      <td>7043.000000</td>\n",
       "      <td>7043.000000</td>\n",
       "      <td>7043.000000</td>\n",
       "      <td>7043.000000</td>\n",
       "      <td>7043.000000</td>\n",
       "    </tr>\n",
       "    <tr>\n",
       "      <th>mean</th>\n",
       "      <td>46.509726</td>\n",
       "      <td>0.468692</td>\n",
       "      <td>93486.070567</td>\n",
       "      <td>36.197455</td>\n",
       "      <td>-119.756684</td>\n",
       "      <td>1.951867</td>\n",
       "      <td>32.386767</td>\n",
       "      <td>25.420517</td>\n",
       "      <td>26.189958</td>\n",
       "      <td>63.596131</td>\n",
       "      <td>2280.381264</td>\n",
       "      <td>1.962182</td>\n",
       "      <td>6.860713</td>\n",
       "      <td>749.099262</td>\n",
       "      <td>3034.379056</td>\n",
       "    </tr>\n",
       "    <tr>\n",
       "      <th>std</th>\n",
       "      <td>16.750352</td>\n",
       "      <td>0.962802</td>\n",
       "      <td>1856.767505</td>\n",
       "      <td>2.468929</td>\n",
       "      <td>2.154425</td>\n",
       "      <td>3.001199</td>\n",
       "      <td>24.542061</td>\n",
       "      <td>14.200374</td>\n",
       "      <td>19.586585</td>\n",
       "      <td>31.204743</td>\n",
       "      <td>2266.220462</td>\n",
       "      <td>7.902614</td>\n",
       "      <td>25.104978</td>\n",
       "      <td>846.660055</td>\n",
       "      <td>2865.204542</td>\n",
       "    </tr>\n",
       "    <tr>\n",
       "      <th>min</th>\n",
       "      <td>19.000000</td>\n",
       "      <td>0.000000</td>\n",
       "      <td>90001.000000</td>\n",
       "      <td>32.555828</td>\n",
       "      <td>-124.301372</td>\n",
       "      <td>0.000000</td>\n",
       "      <td>1.000000</td>\n",
       "      <td>1.010000</td>\n",
       "      <td>2.000000</td>\n",
       "      <td>-10.000000</td>\n",
       "      <td>18.800000</td>\n",
       "      <td>0.000000</td>\n",
       "      <td>0.000000</td>\n",
       "      <td>0.000000</td>\n",
       "      <td>21.360000</td>\n",
       "    </tr>\n",
       "    <tr>\n",
       "      <th>25%</th>\n",
       "      <td>32.000000</td>\n",
       "      <td>0.000000</td>\n",
       "      <td>92101.000000</td>\n",
       "      <td>33.990646</td>\n",
       "      <td>-121.788090</td>\n",
       "      <td>0.000000</td>\n",
       "      <td>9.000000</td>\n",
       "      <td>13.050000</td>\n",
       "      <td>13.000000</td>\n",
       "      <td>30.400000</td>\n",
       "      <td>400.150000</td>\n",
       "      <td>0.000000</td>\n",
       "      <td>0.000000</td>\n",
       "      <td>70.545000</td>\n",
       "      <td>605.610000</td>\n",
       "    </tr>\n",
       "    <tr>\n",
       "      <th>50%</th>\n",
       "      <td>46.000000</td>\n",
       "      <td>0.000000</td>\n",
       "      <td>93518.000000</td>\n",
       "      <td>36.205465</td>\n",
       "      <td>-119.595293</td>\n",
       "      <td>0.000000</td>\n",
       "      <td>29.000000</td>\n",
       "      <td>25.690000</td>\n",
       "      <td>21.000000</td>\n",
       "      <td>70.050000</td>\n",
       "      <td>1394.550000</td>\n",
       "      <td>0.000000</td>\n",
       "      <td>0.000000</td>\n",
       "      <td>401.440000</td>\n",
       "      <td>2108.640000</td>\n",
       "    </tr>\n",
       "    <tr>\n",
       "      <th>75%</th>\n",
       "      <td>60.000000</td>\n",
       "      <td>0.000000</td>\n",
       "      <td>95329.000000</td>\n",
       "      <td>38.161321</td>\n",
       "      <td>-117.969795</td>\n",
       "      <td>3.000000</td>\n",
       "      <td>55.000000</td>\n",
       "      <td>37.680000</td>\n",
       "      <td>30.000000</td>\n",
       "      <td>89.750000</td>\n",
       "      <td>3786.600000</td>\n",
       "      <td>0.000000</td>\n",
       "      <td>0.000000</td>\n",
       "      <td>1191.100000</td>\n",
       "      <td>4801.145000</td>\n",
       "    </tr>\n",
       "    <tr>\n",
       "      <th>max</th>\n",
       "      <td>80.000000</td>\n",
       "      <td>9.000000</td>\n",
       "      <td>96150.000000</td>\n",
       "      <td>41.962127</td>\n",
       "      <td>-114.192901</td>\n",
       "      <td>11.000000</td>\n",
       "      <td>72.000000</td>\n",
       "      <td>49.990000</td>\n",
       "      <td>85.000000</td>\n",
       "      <td>118.750000</td>\n",
       "      <td>8684.800000</td>\n",
       "      <td>49.790000</td>\n",
       "      <td>150.000000</td>\n",
       "      <td>3564.720000</td>\n",
       "      <td>11979.340000</td>\n",
       "    </tr>\n",
       "  </tbody>\n",
       "</table>\n",
       "</div>"
      ],
      "text/plain": [
       "               Age  Number of Dependents      Zip Code     Latitude  \\\n",
       "count  7043.000000           7043.000000   7043.000000  7043.000000   \n",
       "mean     46.509726              0.468692  93486.070567    36.197455   \n",
       "std      16.750352              0.962802   1856.767505     2.468929   \n",
       "min      19.000000              0.000000  90001.000000    32.555828   \n",
       "25%      32.000000              0.000000  92101.000000    33.990646   \n",
       "50%      46.000000              0.000000  93518.000000    36.205465   \n",
       "75%      60.000000              0.000000  95329.000000    38.161321   \n",
       "max      80.000000              9.000000  96150.000000    41.962127   \n",
       "\n",
       "         Longitude  Number of Referrals  Tenure in Months  \\\n",
       "count  7043.000000          7043.000000       7043.000000   \n",
       "mean   -119.756684             1.951867         32.386767   \n",
       "std       2.154425             3.001199         24.542061   \n",
       "min    -124.301372             0.000000          1.000000   \n",
       "25%    -121.788090             0.000000          9.000000   \n",
       "50%    -119.595293             0.000000         29.000000   \n",
       "75%    -117.969795             3.000000         55.000000   \n",
       "max    -114.192901            11.000000         72.000000   \n",
       "\n",
       "       Avg Monthly Long Distance Charges  Avg Monthly GB Download  \\\n",
       "count                        6361.000000              5517.000000   \n",
       "mean                           25.420517                26.189958   \n",
       "std                            14.200374                19.586585   \n",
       "min                             1.010000                 2.000000   \n",
       "25%                            13.050000                13.000000   \n",
       "50%                            25.690000                21.000000   \n",
       "75%                            37.680000                30.000000   \n",
       "max                            49.990000                85.000000   \n",
       "\n",
       "       Monthly Charge  Total Charges  Total Refunds  Total Extra Data Charges  \\\n",
       "count     7043.000000    7043.000000    7043.000000               7043.000000   \n",
       "mean        63.596131    2280.381264       1.962182                  6.860713   \n",
       "std         31.204743    2266.220462       7.902614                 25.104978   \n",
       "min        -10.000000      18.800000       0.000000                  0.000000   \n",
       "25%         30.400000     400.150000       0.000000                  0.000000   \n",
       "50%         70.050000    1394.550000       0.000000                  0.000000   \n",
       "75%         89.750000    3786.600000       0.000000                  0.000000   \n",
       "max        118.750000    8684.800000      49.790000                150.000000   \n",
       "\n",
       "       Total Long Distance Charges  Total Revenue  \n",
       "count                  7043.000000    7043.000000  \n",
       "mean                    749.099262    3034.379056  \n",
       "std                     846.660055    2865.204542  \n",
       "min                       0.000000      21.360000  \n",
       "25%                      70.545000     605.610000  \n",
       "50%                     401.440000    2108.640000  \n",
       "75%                    1191.100000    4801.145000  \n",
       "max                    3564.720000   11979.340000  "
      ]
     },
     "execution_count": 3,
     "metadata": {},
     "output_type": "execute_result"
    }
   ],
   "source": [
    "df.describe()"
   ]
  },
  {
   "cell_type": "code",
   "execution_count": 4,
   "id": "ca074e9c",
   "metadata": {},
   "outputs": [
    {
     "data": {
      "text/plain": [
       "(7043, 38)"
      ]
     },
     "execution_count": 4,
     "metadata": {},
     "output_type": "execute_result"
    }
   ],
   "source": [
    "# shape of the data\n",
    "df.shape"
   ]
  },
  {
   "cell_type": "markdown",
   "id": "72a25448",
   "metadata": {},
   "source": [
    "The data contains 7043 rows and 38 columns "
   ]
  },
  {
   "cell_type": "code",
   "execution_count": 5,
   "id": "ad920aa7",
   "metadata": {},
   "outputs": [
    {
     "data": {
      "text/plain": [
       "Customer ID                           object\n",
       "Gender                                object\n",
       "Age                                    int64\n",
       "Married                               object\n",
       "Number of Dependents                   int64\n",
       "City                                  object\n",
       "Zip Code                               int64\n",
       "Latitude                             float64\n",
       "Longitude                            float64\n",
       "Number of Referrals                    int64\n",
       "Tenure in Months                       int64\n",
       "Offer                                 object\n",
       "Phone Service                         object\n",
       "Avg Monthly Long Distance Charges    float64\n",
       "Multiple Lines                        object\n",
       "Internet Service                      object\n",
       "Internet Type                         object\n",
       "Avg Monthly GB Download              float64\n",
       "Online Security                       object\n",
       "Online Backup                         object\n",
       "Device Protection Plan                object\n",
       "Premium Tech Support                  object\n",
       "Streaming TV                          object\n",
       "Streaming Movies                      object\n",
       "Streaming Music                       object\n",
       "Unlimited Data                        object\n",
       "Contract                              object\n",
       "Paperless Billing                     object\n",
       "Payment Method                        object\n",
       "Monthly Charge                       float64\n",
       "Total Charges                        float64\n",
       "Total Refunds                        float64\n",
       "Total Extra Data Charges               int64\n",
       "Total Long Distance Charges          float64\n",
       "Total Revenue                        float64\n",
       "Customer Status                       object\n",
       "Churn Category                        object\n",
       "Churn Reason                          object\n",
       "dtype: object"
      ]
     },
     "execution_count": 5,
     "metadata": {},
     "output_type": "execute_result"
    }
   ],
   "source": [
    "#Check the data types \n",
    "df.dtypes"
   ]
  },
  {
   "cell_type": "code",
   "execution_count": 6,
   "id": "107da8bb",
   "metadata": {},
   "outputs": [
    {
     "data": {
      "text/plain": [
       "Customer ID                             0\n",
       "Gender                                  0\n",
       "Age                                     0\n",
       "Married                                 0\n",
       "Number of Dependents                    0\n",
       "City                                    0\n",
       "Zip Code                                0\n",
       "Latitude                                0\n",
       "Longitude                               0\n",
       "Number of Referrals                     0\n",
       "Tenure in Months                        0\n",
       "Offer                                   0\n",
       "Phone Service                           0\n",
       "Avg Monthly Long Distance Charges     682\n",
       "Multiple Lines                        682\n",
       "Internet Service                        0\n",
       "Internet Type                        1526\n",
       "Avg Monthly GB Download              1526\n",
       "Online Security                      1526\n",
       "Online Backup                        1526\n",
       "Device Protection Plan               1526\n",
       "Premium Tech Support                 1526\n",
       "Streaming TV                         1526\n",
       "Streaming Movies                     1526\n",
       "Streaming Music                      1526\n",
       "Unlimited Data                       1526\n",
       "Contract                                0\n",
       "Paperless Billing                       0\n",
       "Payment Method                          0\n",
       "Monthly Charge                          0\n",
       "Total Charges                           0\n",
       "Total Refunds                           0\n",
       "Total Extra Data Charges                0\n",
       "Total Long Distance Charges             0\n",
       "Total Revenue                           0\n",
       "Customer Status                         0\n",
       "Churn Category                       5174\n",
       "Churn Reason                         5174\n",
       "dtype: int64"
      ]
     },
     "execution_count": 6,
     "metadata": {},
     "output_type": "execute_result"
    }
   ],
   "source": [
    "#check for missing values\n",
    "df.isnull().sum()"
   ]
  },
  {
   "cell_type": "code",
   "execution_count": 7,
   "id": "7224196a",
   "metadata": {},
   "outputs": [
    {
     "data": {
      "text/plain": [
       "count    7043.000000\n",
       "mean       46.509726\n",
       "std        16.750352\n",
       "min        19.000000\n",
       "25%        32.000000\n",
       "50%        46.000000\n",
       "75%        60.000000\n",
       "max        80.000000\n",
       "Name: Age, dtype: float64"
      ]
     },
     "execution_count": 7,
     "metadata": {},
     "output_type": "execute_result"
    }
   ],
   "source": [
    "df.Age.describe()"
   ]
  },
  {
   "cell_type": "markdown",
   "id": "4ffac176",
   "metadata": {},
   "source": [
    "The average age of the customers is 47years.\n",
    "The youngest customer is 18years whle the oldest is 80 years,"
   ]
  },
  {
   "cell_type": "code",
   "execution_count": 8,
   "id": "15970fdf",
   "metadata": {},
   "outputs": [
    {
     "name": "stdout",
     "output_type": "stream",
     "text": [
      "Male      3555\n",
      "Female    3488\n",
      "Name: Gender, dtype: int64\n"
     ]
    },
    {
     "data": {
      "text/plain": [
       "<AxesSubplot:ylabel='Gender'>"
      ]
     },
     "execution_count": 8,
     "metadata": {},
     "output_type": "execute_result"
    },
    {
     "data": {
      "image/png": "[encoded data removed]",
      "text/plain": [
       "<Figure size 864x576 with 1 Axes>"
      ]
     },
     "metadata": {},
     "output_type": "display_data"
    }
   ],
   "source": [
    "#how many males and females are present in the data\n",
    "print(df.Gender.value_counts())\n",
    "df.Gender.value_counts().plot(kind = \"pie\", figsize = (12,8),\n",
    "                             autopct='%1.1f%%',\n",
    "                             startangle=90, shadow=True,\n",
    "                             )"
   ]
  },
  {
   "cell_type": "markdown",
   "id": "e064da4c",
   "metadata": {},
   "source": [
    "50.5% of customers are male while 49.5% are females."
   ]
  },
  {
   "cell_type": "code",
   "execution_count": 9,
   "id": "94a19c35",
   "metadata": {},
   "outputs": [
    {
     "name": "stdout",
     "output_type": "stream",
     "text": [
      "Stayed     5174\n",
      "Churned    1869\n",
      "Name: Customer Status, dtype: int64\n"
     ]
    },
    {
     "data": {
      "text/plain": [
       "<AxesSubplot:>"
      ]
     },
     "execution_count": 9,
     "metadata": {},
     "output_type": "execute_result"
    },
    {
     "data": {
      "image/png": "[encoded data removed]",
      "text/plain": [
       "<Figure size 864x648 with 1 Axes>"
      ]
     },
     "metadata": {
      "needs_background": "light"
     },
     "output_type": "display_data"
    }
   ],
   "source": [
    "#our target column is supposed to contain Stayed or Churned so lets merge Stayed and Joined togther \n",
    "df[\"Customer Status\"] = df[\"Customer Status\"].replace([\"Joined\"],\"Stayed\")\n",
    "print(df[\"Customer Status\"].value_counts())\n",
    "df['Customer Status'].value_counts().plot(kind = \"bar\", figsize = (12,9), color = ['green', 'red'])"
   ]
  },
  {
   "cell_type": "markdown",
   "id": "40e369fd",
   "metadata": {},
   "source": [
    "1869 which is 27% of customers have left the company."
   ]
  },
  {
   "cell_type": "code",
   "execution_count": 10,
   "id": "7bce2f66",
   "metadata": {},
   "outputs": [
    {
     "data": {
      "text/plain": [
       "Gender  Customer Status\n",
       "Female  Stayed             2549\n",
       "        Churned             939\n",
       "Male    Stayed             2625\n",
       "        Churned             930\n",
       "Name: Customer Status, dtype: int64"
      ]
     },
     "execution_count": 10,
     "metadata": {},
     "output_type": "execute_result"
    }
   ],
   "source": [
    "df.groupby(\"Gender\")[\"Customer Status\"].value_counts()"
   ]
  },
  {
   "cell_type": "code",
   "execution_count": 11,
   "id": "1a263946",
   "metadata": {},
   "outputs": [
    {
     "data": {
      "text/plain": [
       "<AxesSubplot:xlabel='Gender,Customer Status'>"
      ]
     },
     "execution_count": 11,
     "metadata": {},
     "output_type": "execute_result"
    },
    {
     "data": {
      "image/png": "[encoded data removed]",
      "text/plain": [
       "<Figure size 864x648 with 1 Axes>"
      ]
     },
     "metadata": {
      "needs_background": "light"
     },
     "output_type": "display_data"
    }
   ],
   "source": [
    "df.groupby(\"Gender\")[\"Customer Status\"].value_counts().plot(kind = \"bar\", color = ['green', 'red'],figsize = (12,9))"
   ]
  },
  {
   "cell_type": "markdown",
   "id": "f7aed15e",
   "metadata": {},
   "source": [
    "939 i.e approximately 30% of females  have left also 930 approximately 26% of males have left the company.\n",
    "Approximately 50% of total churned customers are male and approximately 50% are females."
   ]
  },
  {
   "cell_type": "code",
   "execution_count": 12,
   "id": "ea66eb65",
   "metadata": {},
   "outputs": [
    {
     "name": "stdout",
     "output_type": "stream",
     "text": [
      "Unlimited Data  Customer Status\n",
      "No              Stayed              518\n",
      "                Churned             254\n",
      "Yes             Stayed             3243\n",
      "                Churned            1502\n",
      "Name: Customer Status, dtype: int64\n"
     ]
    },
    {
     "data": {
      "text/plain": [
       "<AxesSubplot:xlabel='Unlimited Data,Customer Status'>"
      ]
     },
     "execution_count": 12,
     "metadata": {},
     "output_type": "execute_result"
    },
    {
     "data": {
      "image/png": "[encoded data removed]",
      "text/plain": [
       "<Figure size 864x648 with 1 Axes>"
      ]
     },
     "metadata": {
      "needs_background": "light"
     },
     "output_type": "display_data"
    }
   ],
   "source": [
    "print(df.groupby(\"Unlimited Data\")[\"Customer Status\"].value_counts())\n",
    "df.groupby(\"Unlimited Data\")[\"Customer Status\"].value_counts().plot(kind = \"bar\", color = ['green', 'red'],figsize = (12,9))"
   ]
  },
  {
   "cell_type": "markdown",
   "id": "22edabc6",
   "metadata": {},
   "source": [
    "31.6% of those on Unlimited data package have churned also 32.9% of those not on Unlimited data package have lef.\n",
    "In general 80% of Total customers that churned are on the Unlimited package while 20% are not on the Unlimited Data package."
   ]
  },
  {
   "cell_type": "code",
   "execution_count": 13,
   "id": "716f2066",
   "metadata": {},
   "outputs": [
    {
     "name": "stdout",
     "output_type": "stream",
     "text": [
      "Contract        Customer Status\n",
      "Month-to-Month  Stayed             1955\n",
      "                Churned            1655\n",
      "One Year        Stayed             1384\n",
      "                Churned             166\n",
      "Two Year        Stayed             1835\n",
      "                Churned              48\n",
      "Name: Customer Status, dtype: int64\n"
     ]
    },
    {
     "data": {
      "text/plain": [
       "<AxesSubplot:xlabel='Contract,Customer Status'>"
      ]
     },
     "execution_count": 13,
     "metadata": {},
     "output_type": "execute_result"
    },
    {
     "data": {
      "image/png": "[encoded data removed]",
      "text/plain": [
       "<Figure size 864x648 with 1 Axes>"
      ]
     },
     "metadata": {
      "needs_background": "light"
     },
     "output_type": "display_data"
    }
   ],
   "source": [
    "print(df.groupby(\"Contract\")[\"Customer Status\"].value_counts())\n",
    "df.groupby(\"Contract\")[\"Customer Status\"].value_counts().plot(kind = \"bar\", color = ['green', 'red'],figsize = (12,9))"
   ]
  },
  {
   "cell_type": "markdown",
   "id": "2b9abdbb",
   "metadata": {},
   "source": [
    "1655 customers on month to month package have left the company i.e 89% of those who leeft the company are on month to month package."
   ]
  },
  {
   "cell_type": "code",
   "execution_count": 14,
   "id": "576fe84b",
   "metadata": {},
   "outputs": [
    {
     "name": "stdout",
     "output_type": "stream",
     "text": [
      "Offer    Customer Status\n",
      "None     Stayed             2826\n",
      "         Churned            1051\n",
      "Offer A  Stayed              485\n",
      "         Churned              35\n",
      "Offer B  Stayed              723\n",
      "         Churned             101\n",
      "Offer C  Stayed              320\n",
      "         Churned              95\n",
      "Offer D  Stayed              441\n",
      "         Churned             161\n",
      "Offer E  Churned             426\n",
      "         Stayed              379\n",
      "Name: Customer Status, dtype: int64\n"
     ]
    },
    {
     "data": {
      "text/plain": [
       "<AxesSubplot:xlabel='Offer,Customer Status'>"
      ]
     },
     "execution_count": 14,
     "metadata": {},
     "output_type": "execute_result"
    },
    {
     "data": {
      "image/png": "[encoded data removed]",
      "text/plain": [
       "<Figure size 864x576 with 1 Axes>"
      ]
     },
     "metadata": {
      "needs_background": "light"
     },
     "output_type": "display_data"
    }
   ],
   "source": [
    "print(df.groupby(\"Offer\")[\"Customer Status\"].value_counts())\n",
    "df.groupby(\"Offer\")[\"Customer Status\"].value_counts().plot(kind = \"bar\", color = ['green', 'red'], figsize = (12,8))"
   ]
  },
  {
   "cell_type": "markdown",
   "id": "0cfc4414",
   "metadata": {},
   "source": [
    "Customers with no offers have  the highest number of those Churned i.e 56% of customers that left dont have an offer."
   ]
  },
  {
   "cell_type": "code",
   "execution_count": 15,
   "id": "159ae8f5",
   "metadata": {},
   "outputs": [
    {
     "name": "stdout",
     "output_type": "stream",
     "text": [
      "Internet Service  Customer Status\n",
      "No                Stayed             1413\n",
      "                  Churned             113\n",
      "Yes               Stayed             3761\n",
      "                  Churned            1756\n",
      "Name: Customer Status, dtype: int64\n"
     ]
    },
    {
     "data": {
      "text/plain": [
       "<AxesSubplot:xlabel='Internet Service,Customer Status'>"
      ]
     },
     "execution_count": 15,
     "metadata": {},
     "output_type": "execute_result"
    },
    {
     "data": {
      "image/png": "[encoded data removed]",
      "text/plain": [
       "<Figure size 864x576 with 1 Axes>"
      ]
     },
     "metadata": {
      "needs_background": "light"
     },
     "output_type": "display_data"
    }
   ],
   "source": [
    "print(df.groupby(\"Internet Service\")[\"Customer Status\"].value_counts())\n",
    "df.groupby(\"Internet Service\")[\"Customer Status\"].value_counts().plot(kind = \"bar\", color = ['green', 'red'], figsize = (12,8))"
   ]
  },
  {
   "cell_type": "markdown",
   "id": "caa765eb",
   "metadata": {},
   "source": [
    "7% of customers not using internet service have churned while 32% of those using Internet Service have churned.\n",
    "In general 94% of churned customers uses internet services while 6% of churned customers dont use internet services."
   ]
  },
  {
   "cell_type": "code",
   "execution_count": 16,
   "id": "b3ee0446",
   "metadata": {},
   "outputs": [
    {
     "name": "stdout",
     "output_type": "stream",
     "text": [
      "count    7043.000000\n",
      "mean        1.951867\n",
      "std         3.001199\n",
      "min         0.000000\n",
      "25%         0.000000\n",
      "50%         0.000000\n",
      "75%         3.000000\n",
      "max        11.000000\n",
      "Name: Number of Referrals, dtype: float64\n",
      "The customers have referred a toal of 13747 customers\n"
     ]
    }
   ],
   "source": [
    "print(df[\"Number of Referrals\"].describe())\n",
    "total = df[\"Number of Referrals\"].sum()\n",
    "print(f\"The customers have referred a toal of {total} customers\")"
   ]
  },
  {
   "cell_type": "markdown",
   "id": "6da01e55",
   "metadata": {},
   "source": [
    "The customers have on an average referred  two customers each."
   ]
  },
  {
   "cell_type": "code",
   "execution_count": 17,
   "id": "ee215c6e",
   "metadata": {},
   "outputs": [
    {
     "name": "stdout",
     "output_type": "stream",
     "text": [
      "The company have generated the sum of 21371131.69 from the customers\n"
     ]
    }
   ],
   "source": [
    "Total = df[\"Total Revenue\"].sum()\n",
    "print (f\"The company have generated the sum of {Total} from the customers\")"
   ]
  },
  {
   "cell_type": "code",
   "execution_count": 18,
   "id": "9e783346",
   "metadata": {},
   "outputs": [
    {
     "data": {
      "text/plain": [
       "<AxesSubplot:>"
      ]
     },
     "execution_count": 18,
     "metadata": {},
     "output_type": "execute_result"
    },
    {
     "data": {
      "image/png": "[encoded data removed]",
      "text/plain": [
       "<Figure size 1008x648 with 1 Axes>"
      ]
     },
     "metadata": {
      "needs_background": "light"
     },
     "output_type": "display_data"
    }
   ],
   "source": [
    "df['Churn Reason'].value_counts().plot(kind = \"bar\", figsize = (14,9))"
   ]
  },
  {
   "cell_type": "markdown",
   "id": "5dda013a",
   "metadata": {},
   "source": [
    "The above chart shows the reasons for customer churn and thier corresponding numbers. whereas Most customers left majorly because Competitors had better devices and competitors made better offers, so i think the company should step up thier game against their competitors."
   ]
  },
  {
   "cell_type": "code",
   "execution_count": 19,
   "id": "bdf252b4",
   "metadata": {},
   "outputs": [
    {
     "name": "stdout",
     "output_type": "stream",
     "text": [
      "Competitor         841\n",
      "Dissatisfaction    321\n",
      "Attitude           314\n",
      "Price              211\n",
      "Other              182\n",
      "Name: Churn Category, dtype: int64\n"
     ]
    },
    {
     "data": {
      "text/plain": [
       "<AxesSubplot:>"
      ]
     },
     "execution_count": 19,
     "metadata": {},
     "output_type": "execute_result"
    },
    {
     "data": {
      "image/png": "[encoded data removed]",
      "text/plain": [
       "<Figure size 1008x648 with 1 Axes>"
      ]
     },
     "metadata": {
      "needs_background": "light"
     },
     "output_type": "display_data"
    }
   ],
   "source": [
    "print(df['Churn Category'].value_counts())\n",
    "df['Churn Category'].value_counts().plot(kind = \"bar\", figsize = (14,9), color = \"red\")"
   ]
  },
  {
   "cell_type": "markdown",
   "id": "24c8e14c",
   "metadata": {},
   "source": [
    "45% if customers that churned left because of better offer from competitors, 17% left because they are not satisfied with the companies services, 17% churned because of employees attitude, 11% left because of Price, and 10% because of other factors."
   ]
  },
  {
   "cell_type": "code",
   "execution_count": 20,
   "id": "b1e285a3",
   "metadata": {},
   "outputs": [
    {
     "name": "stdout",
     "output_type": "stream",
     "text": [
      "Yes    6361\n",
      "No      682\n",
      "Name: Phone Service, dtype: int64\n"
     ]
    },
    {
     "data": {
      "text/plain": [
       "<AxesSubplot:ylabel='Phone Service'>"
      ]
     },
     "execution_count": 20,
     "metadata": {},
     "output_type": "execute_result"
    },
    {
     "data": {
      "image/png": "[encoded data removed]",
      "text/plain": [
       "<Figure size 864x576 with 1 Axes>"
      ]
     },
     "metadata": {},
     "output_type": "display_data"
    }
   ],
   "source": [
    "print(df['Phone Service'].value_counts())\n",
    "df['Phone Service'].value_counts().plot(kind = \"pie\", figsize = (12,8),\n",
    "                                        autopct='%1.1f%%',\n",
    "                                        startangle=90, shadow=True,\n",
    "                                        )"
   ]
  },
  {
   "cell_type": "markdown",
   "id": "d0288c64",
   "metadata": {},
   "source": [
    "6361 which is approximately 90% of the customers subscribed for additional Phone servicxes"
   ]
  },
  {
   "cell_type": "markdown",
   "id": "30b6588e",
   "metadata": {},
   "source": [
    "DATA PREPROCESSING AND CLEANING"
   ]
  },
  {
   "cell_type": "code",
   "execution_count": 21,
   "id": "af395f7b",
   "metadata": {},
   "outputs": [
    {
     "data": {
      "text/plain": [
       "<AxesSubplot:>"
      ]
     },
     "execution_count": 21,
     "metadata": {},
     "output_type": "execute_result"
    },
    {
     "data": {
      "image/png": "[encoded data removed]",
      "text/plain": [
       "<Figure size 864x576 with 1 Axes>"
      ]
     },
     "metadata": {
      "needs_background": "light"
     },
     "output_type": "display_data"
    }
   ],
   "source": [
    "#Box plot of Average Monthly Long distance charges\n",
    "df[\"Avg Monthly Long Distance Charges\"].plot(kind = \"box\", figsize=(12,8))"
   ]
  },
  {
   "cell_type": "markdown",
   "id": "ec9db0eb",
   "metadata": {},
   "source": [
    "Since outlier data points have a significant impact on the mean and we dont have an outlier then we can replace the missing values with the mean."
   ]
  },
  {
   "cell_type": "code",
   "execution_count": 22,
   "id": "83b1f9f7",
   "metadata": {},
   "outputs": [
    {
     "data": {
      "text/plain": [
       "0"
      ]
     },
     "execution_count": 22,
     "metadata": {},
     "output_type": "execute_result"
    }
   ],
   "source": [
    "df[\"Avg Monthly Long Distance Charges\"] = df[\"Avg Monthly Long Distance Charges\"].fillna(df[\"Avg Monthly Long Distance Charges\"].mean())\n",
    "df[\"Avg Monthly Long Distance Charges\"].isnull().sum()"
   ]
  },
  {
   "cell_type": "code",
   "execution_count": 23,
   "id": "31fde462",
   "metadata": {},
   "outputs": [
    {
     "data": {
      "text/plain": [
       "<AxesSubplot:>"
      ]
     },
     "execution_count": 23,
     "metadata": {},
     "output_type": "execute_result"
    },
    {
     "data": {
      "image/png": "[encoded data removed]",
      "text/plain": [
       "<Figure size 864x576 with 1 Axes>"
      ]
     },
     "metadata": {
      "needs_background": "light"
     },
     "output_type": "display_data"
    }
   ],
   "source": [
    "df[\"Avg Monthly GB Download\"].plot(kind = \"box\", figsize = (12,8))"
   ]
  },
  {
   "cell_type": "markdown",
   "id": "39b05ce3",
   "metadata": {},
   "source": [
    "Since we have several outlier datapoints which will have a significant impact on the mean, hence we replace missing values with the median of the data."
   ]
  },
  {
   "cell_type": "code",
   "execution_count": 24,
   "id": "4fa92391",
   "metadata": {},
   "outputs": [
    {
     "data": {
      "text/plain": [
       "0"
      ]
     },
     "execution_count": 24,
     "metadata": {},
     "output_type": "execute_result"
    }
   ],
   "source": [
    "df[\"Avg Monthly GB Download\"] = df[\"Avg Monthly GB Download\"].fillna(df[\"Avg Monthly GB Download\"].median())\n",
    "df[\"Avg Monthly GB Download\"].isnull().sum()"
   ]
  },
  {
   "cell_type": "code",
   "execution_count": 25,
   "id": "8abcba00",
   "metadata": {},
   "outputs": [
    {
     "name": "stdout",
     "output_type": "stream",
     "text": [
      "No     3390\n",
      "Yes    2971\n",
      "Name: Multiple Lines, dtype: int64\n",
      "0\n"
     ]
    }
   ],
   "source": [
    "print(df[\"Multiple Lines\"].value_counts())\n",
    "#Replace missing values in Multiple Lines with the modal value which is No.\n",
    "df[\"Multiple Lines\"] = df[\"Multiple Lines\"].fillna(\"No\").astype(\"category\").cat.codes\n",
    "#Lets now see if we still have missing values\n",
    "print(df[\"Multiple Lines\"].isnull().sum())"
   ]
  },
  {
   "cell_type": "code",
   "execution_count": 26,
   "id": "9c345fd8",
   "metadata": {},
   "outputs": [
    {
     "name": "stdout",
     "output_type": "stream",
     "text": [
      "Fiber Optic    3035\n",
      "DSL            1652\n",
      "Cable           830\n",
      "Name: Internet Type, dtype: int64\n",
      "0\n"
     ]
    }
   ],
   "source": [
    "print(df[\"Internet Type\"].value_counts())\n",
    "#Replace missing values with modal categorical value i.e Fiber Optic\n",
    "df[\"Internet Type\"] = df[\"Internet Type\"].fillna(\"Fiber Optic\").astype(\"category\").cat.codes\n",
    "#Lets now see if we still have missing values\n",
    "print(df[\"Internet Type\"].isnull().sum())"
   ]
  },
  {
   "cell_type": "code",
   "execution_count": 27,
   "id": "38ae0dcb",
   "metadata": {},
   "outputs": [
    {
     "name": "stdout",
     "output_type": "stream",
     "text": [
      "No     3498\n",
      "Yes    2019\n",
      "Name: Online Security, dtype: int64\n",
      "0\n"
     ]
    }
   ],
   "source": [
    "print(df[\"Online Security\"].value_counts())\n",
    "#Replace missing values with modal categorical value i.e No\n",
    "df[\"Online Security\"] = df[\"Online Security\"].fillna(\"No\").astype(\"category\").cat.codes\n",
    "print(df[\"Online Security\"].isnull().sum())"
   ]
  },
  {
   "cell_type": "code",
   "execution_count": 28,
   "id": "41f91dcb",
   "metadata": {},
   "outputs": [
    {
     "name": "stdout",
     "output_type": "stream",
     "text": [
      "No     3088\n",
      "Yes    2429\n",
      "Name: Online Backup, dtype: int64\n",
      "0\n"
     ]
    }
   ],
   "source": [
    "print(df[\"Online Backup\"] .value_counts())\n",
    "#Replace missing values with modal categorical value i.e No\n",
    "df[\"Online Backup\"] = df[\"Online Backup\"] .fillna(\"No\").astype(\"category\").cat.codes\n",
    "print(df[\"Online Backup\"] .isnull().sum())"
   ]
  },
  {
   "cell_type": "code",
   "execution_count": 29,
   "id": "a257a860",
   "metadata": {},
   "outputs": [
    {
     "name": "stdout",
     "output_type": "stream",
     "text": [
      "No     3095\n",
      "Yes    2422\n",
      "Name: Device Protection Plan, dtype: int64\n",
      "0\n"
     ]
    }
   ],
   "source": [
    "print(df[\"Device Protection Plan\"].value_counts())\n",
    "#Replace missing values with modal categorical value i.e No\n",
    "df[\"Device Protection Plan\"] = df[\"Device Protection Plan\"].fillna(\"No\").astype(\"category\").cat.codes\n",
    "print(df[\"Device Protection Plan\"].isnull().sum())"
   ]
  },
  {
   "cell_type": "code",
   "execution_count": 30,
   "id": "7d7e1d92",
   "metadata": {},
   "outputs": [
    {
     "name": "stdout",
     "output_type": "stream",
     "text": [
      "No     3473\n",
      "Yes    2044\n",
      "Name: Premium Tech Support, dtype: int64\n",
      "0\n"
     ]
    }
   ],
   "source": [
    "print(df[\"Premium Tech Support\"].value_counts())\n",
    "#Replace missing values with modal categorical value i.e No\n",
    "df[\"Premium Tech Support\"] = df[\"Premium Tech Support\"].fillna(\"No\").astype(\"category\").cat.codes\n",
    "print(df[\"Premium Tech Support\"].isnull().sum())"
   ]
  },
  {
   "cell_type": "code",
   "execution_count": 31,
   "id": "f9d89c0a",
   "metadata": {},
   "outputs": [
    {
     "name": "stdout",
     "output_type": "stream",
     "text": [
      "No     2810\n",
      "Yes    2707\n",
      "Name: Streaming TV, dtype: int64\n",
      "0    4336\n",
      "1    2707\n",
      "Name: Streaming TV, dtype: int64\n",
      "0\n"
     ]
    }
   ],
   "source": [
    "print(df[\"Streaming TV\"].value_counts())\n",
    "#Replace missing values with modal categorical value i.e No\n",
    "df[\"Streaming TV\"] = df[\"Streaming TV\"].fillna(\"No\").astype(\"category\").cat.codes\n",
    "print(df[\"Streaming TV\"].value_counts())\n",
    "print(df[\"Streaming TV\"].isnull().sum())"
   ]
  },
  {
   "cell_type": "code",
   "execution_count": 32,
   "id": "2384a3ef",
   "metadata": {},
   "outputs": [
    {
     "name": "stdout",
     "output_type": "stream",
     "text": [
      "No     2785\n",
      "Yes    2732\n",
      "Name: Streaming Movies, dtype: int64\n",
      "0\n"
     ]
    }
   ],
   "source": [
    "print(df[\"Streaming Movies\"].value_counts())\n",
    "#Replace missing values with modal categorical value i.e No\n",
    "df[\"Streaming Movies\"] = df[\"Streaming Movies\"].fillna(\"No\").astype(\"category\").cat.codes\n",
    "print(df[\"Streaming Movies\"].isnull().sum())"
   ]
  },
  {
   "cell_type": "code",
   "execution_count": 33,
   "id": "3b770587",
   "metadata": {
    "scrolled": true
   },
   "outputs": [
    {
     "name": "stdout",
     "output_type": "stream",
     "text": [
      "No     3029\n",
      "Yes    2488\n",
      "Name: Streaming Music, dtype: int64\n",
      "0\n"
     ]
    }
   ],
   "source": [
    "print(df[\"Streaming Music\"].value_counts())\n",
    "#Replace missing values with modal categorical value i.e No\n",
    "df[\"Streaming Music\"]= df[\"Streaming Music\"].fillna(\"No\").astype(\"category\").cat.codes\n",
    "print(df[\"Streaming Music\"].isnull().sum())"
   ]
  },
  {
   "cell_type": "code",
   "execution_count": 34,
   "id": "1893a423",
   "metadata": {},
   "outputs": [
    {
     "name": "stdout",
     "output_type": "stream",
     "text": [
      "Yes    4745\n",
      "No      772\n",
      "Name: Unlimited Data, dtype: int64\n",
      "0\n"
     ]
    }
   ],
   "source": [
    "print(df[\"Unlimited Data\"].value_counts())\n",
    "#Replace missing values with modal categorical value i.e Yes\n",
    "df[\"Unlimited Data\"]= df[\"Unlimited Data\"].fillna(\"Yes\").astype(\"category\").cat.codes\n",
    "print(df[\"Unlimited Data\"].isnull().sum())"
   ]
  },
  {
   "cell_type": "code",
   "execution_count": 35,
   "id": "f2315c84",
   "metadata": {},
   "outputs": [
    {
     "data": {
      "text/plain": [
       "No     3641\n",
       "Yes    3402\n",
       "Name: Married, dtype: int64"
      ]
     },
     "execution_count": 35,
     "metadata": {},
     "output_type": "execute_result"
    }
   ],
   "source": [
    "df.Married.value_counts()"
   ]
  },
  {
   "cell_type": "markdown",
   "id": "ab315c73",
   "metadata": {},
   "source": [
    "There are more unmarried customers than thier married counterpart."
   ]
  },
  {
   "cell_type": "code",
   "execution_count": 36,
   "id": "d34996bc",
   "metadata": {},
   "outputs": [
    {
     "name": "stdout",
     "output_type": "stream",
     "text": [
      "Stayed     5174\n",
      "Churned    1869\n",
      "Name: Customer Status, dtype: int64\n"
     ]
    }
   ],
   "source": [
    "#encode the remaining categorical columns\n",
    "df[\"Gender\"]= df[\"Gender\"].astype(\"category\").cat.codes\n",
    "df[\"Married\"]= df[\"Married\"].astype(\"category\").cat.codes\n",
    "df[\"Offer\"]= df[\"Offer\"].astype(\"category\").cat.codes\n",
    "df[\"Phone Service\"] = df[\"Phone Service\"].astype(\"category\").cat.codes\n",
    "df[\"Internet Service\"] = df[\"Internet Service\"].astype(\"category\").cat.codes\n",
    "df[\"Contract\"] = df[\"Contract\"].astype(\"category\").cat.codes\n",
    "df[\"Paperless Billing\"] = df[\"Paperless Billing\"].astype(\"category\").cat.codes\n",
    "df[\"Payment Method\"] = df[\"Payment Method\"].astype(\"category\").cat.codes\n",
    "print(df[\"Customer Status\"].value_counts())\n"
   ]
  },
  {
   "cell_type": "code",
   "execution_count": 37,
   "id": "3c97391d",
   "metadata": {},
   "outputs": [],
   "source": [
    "df[\"Customer Status\"] = df[\"Customer Status\"].astype(\"category\").cat.codes"
   ]
  },
  {
   "cell_type": "code",
   "execution_count": 38,
   "id": "e6ca3b87",
   "metadata": {},
   "outputs": [
    {
     "data": {
      "text/plain": [
       "Customer ID                             0\n",
       "Gender                                  0\n",
       "Age                                     0\n",
       "Married                                 0\n",
       "Number of Dependents                    0\n",
       "City                                    0\n",
       "Zip Code                                0\n",
       "Latitude                                0\n",
       "Longitude                               0\n",
       "Number of Referrals                     0\n",
       "Tenure in Months                        0\n",
       "Offer                                   0\n",
       "Phone Service                           0\n",
       "Avg Monthly Long Distance Charges       0\n",
       "Multiple Lines                          0\n",
       "Internet Service                        0\n",
       "Internet Type                           0\n",
       "Avg Monthly GB Download                 0\n",
       "Online Security                         0\n",
       "Online Backup                           0\n",
       "Device Protection Plan                  0\n",
       "Premium Tech Support                    0\n",
       "Streaming TV                            0\n",
       "Streaming Movies                        0\n",
       "Streaming Music                         0\n",
       "Unlimited Data                          0\n",
       "Contract                                0\n",
       "Paperless Billing                       0\n",
       "Payment Method                          0\n",
       "Monthly Charge                          0\n",
       "Total Charges                           0\n",
       "Total Refunds                           0\n",
       "Total Extra Data Charges                0\n",
       "Total Long Distance Charges             0\n",
       "Total Revenue                           0\n",
       "Customer Status                         0\n",
       "Churn Category                       5174\n",
       "Churn Reason                         5174\n",
       "dtype: int64"
      ]
     },
     "execution_count": 38,
     "metadata": {},
     "output_type": "execute_result"
    }
   ],
   "source": [
    "df.isnull().sum()"
   ]
  },
  {
   "cell_type": "code",
   "execution_count": 39,
   "id": "00c6ff1a",
   "metadata": {},
   "outputs": [
    {
     "data": {
      "text/html": [
       "<div>\n",
       "<style scoped>\n",
       "    .dataframe tbody tr th:only-of-type {\n",
       "        vertical-align: middle;\n",
       "    }\n",
       "\n",
       "    .dataframe tbody tr th {\n",
       "        vertical-align: top;\n",
       "    }\n",
       "\n",
       "    .dataframe thead th {\n",
       "        text-align: right;\n",
       "    }\n",
       "</style>\n",
       "<table border=\"1\" class=\"dataframe\">\n",
       "  <thead>\n",
       "    <tr style=\"text-align: right;\">\n",
       "      <th></th>\n",
       "      <th>Customer ID</th>\n",
       "      <th>Gender</th>\n",
       "      <th>Age</th>\n",
       "      <th>Married</th>\n",
       "      <th>Number of Dependents</th>\n",
       "      <th>City</th>\n",
       "      <th>Zip Code</th>\n",
       "      <th>Latitude</th>\n",
       "      <th>Longitude</th>\n",
       "      <th>Number of Referrals</th>\n",
       "      <th>...</th>\n",
       "      <th>Payment Method</th>\n",
       "      <th>Monthly Charge</th>\n",
       "      <th>Total Charges</th>\n",
       "      <th>Total Refunds</th>\n",
       "      <th>Total Extra Data Charges</th>\n",
       "      <th>Total Long Distance Charges</th>\n",
       "      <th>Total Revenue</th>\n",
       "      <th>Customer Status</th>\n",
       "      <th>Churn Category</th>\n",
       "      <th>Churn Reason</th>\n",
       "    </tr>\n",
       "  </thead>\n",
       "  <tbody>\n",
       "    <tr>\n",
       "      <th>0</th>\n",
       "      <td>0002-ORFBO</td>\n",
       "      <td>0</td>\n",
       "      <td>37</td>\n",
       "      <td>1</td>\n",
       "      <td>0</td>\n",
       "      <td>Frazier Park</td>\n",
       "      <td>93225</td>\n",
       "      <td>34.827662</td>\n",
       "      <td>-118.999073</td>\n",
       "      <td>2</td>\n",
       "      <td>...</td>\n",
       "      <td>1</td>\n",
       "      <td>65.6</td>\n",
       "      <td>593.30</td>\n",
       "      <td>0.00</td>\n",
       "      <td>0</td>\n",
       "      <td>381.51</td>\n",
       "      <td>974.81</td>\n",
       "      <td>1</td>\n",
       "      <td>NaN</td>\n",
       "      <td>NaN</td>\n",
       "    </tr>\n",
       "    <tr>\n",
       "      <th>1</th>\n",
       "      <td>0003-MKNFE</td>\n",
       "      <td>1</td>\n",
       "      <td>46</td>\n",
       "      <td>0</td>\n",
       "      <td>0</td>\n",
       "      <td>Glendale</td>\n",
       "      <td>91206</td>\n",
       "      <td>34.162515</td>\n",
       "      <td>-118.203869</td>\n",
       "      <td>0</td>\n",
       "      <td>...</td>\n",
       "      <td>1</td>\n",
       "      <td>4.0</td>\n",
       "      <td>542.40</td>\n",
       "      <td>38.33</td>\n",
       "      <td>10</td>\n",
       "      <td>96.21</td>\n",
       "      <td>610.28</td>\n",
       "      <td>1</td>\n",
       "      <td>NaN</td>\n",
       "      <td>NaN</td>\n",
       "    </tr>\n",
       "    <tr>\n",
       "      <th>2</th>\n",
       "      <td>0004-TLHLJ</td>\n",
       "      <td>1</td>\n",
       "      <td>50</td>\n",
       "      <td>0</td>\n",
       "      <td>0</td>\n",
       "      <td>Costa Mesa</td>\n",
       "      <td>92627</td>\n",
       "      <td>33.645672</td>\n",
       "      <td>-117.922613</td>\n",
       "      <td>0</td>\n",
       "      <td>...</td>\n",
       "      <td>0</td>\n",
       "      <td>73.9</td>\n",
       "      <td>280.85</td>\n",
       "      <td>0.00</td>\n",
       "      <td>0</td>\n",
       "      <td>134.60</td>\n",
       "      <td>415.45</td>\n",
       "      <td>0</td>\n",
       "      <td>Competitor</td>\n",
       "      <td>Competitor had better devices</td>\n",
       "    </tr>\n",
       "    <tr>\n",
       "      <th>3</th>\n",
       "      <td>0011-IGKFF</td>\n",
       "      <td>1</td>\n",
       "      <td>78</td>\n",
       "      <td>1</td>\n",
       "      <td>0</td>\n",
       "      <td>Martinez</td>\n",
       "      <td>94553</td>\n",
       "      <td>38.014457</td>\n",
       "      <td>-122.115432</td>\n",
       "      <td>1</td>\n",
       "      <td>...</td>\n",
       "      <td>0</td>\n",
       "      <td>98.0</td>\n",
       "      <td>1237.85</td>\n",
       "      <td>0.00</td>\n",
       "      <td>0</td>\n",
       "      <td>361.66</td>\n",
       "      <td>1599.51</td>\n",
       "      <td>0</td>\n",
       "      <td>Dissatisfaction</td>\n",
       "      <td>Product dissatisfaction</td>\n",
       "    </tr>\n",
       "    <tr>\n",
       "      <th>4</th>\n",
       "      <td>0013-EXCHZ</td>\n",
       "      <td>0</td>\n",
       "      <td>75</td>\n",
       "      <td>1</td>\n",
       "      <td>0</td>\n",
       "      <td>Camarillo</td>\n",
       "      <td>93010</td>\n",
       "      <td>34.227846</td>\n",
       "      <td>-119.079903</td>\n",
       "      <td>3</td>\n",
       "      <td>...</td>\n",
       "      <td>1</td>\n",
       "      <td>83.9</td>\n",
       "      <td>267.40</td>\n",
       "      <td>0.00</td>\n",
       "      <td>0</td>\n",
       "      <td>22.14</td>\n",
       "      <td>289.54</td>\n",
       "      <td>0</td>\n",
       "      <td>Dissatisfaction</td>\n",
       "      <td>Network reliability</td>\n",
       "    </tr>\n",
       "  </tbody>\n",
       "</table>\n",
       "<p>5 rows × 38 columns</p>\n",
       "</div>"
      ],
      "text/plain": [
       "  Customer ID  Gender  Age  Married  Number of Dependents          City  \\\n",
       "0  0002-ORFBO       0   37        1                     0  Frazier Park   \n",
       "1  0003-MKNFE       1   46        0                     0      Glendale   \n",
       "2  0004-TLHLJ       1   50        0                     0    Costa Mesa   \n",
       "3  0011-IGKFF       1   78        1                     0      Martinez   \n",
       "4  0013-EXCHZ       0   75        1                     0     Camarillo   \n",
       "\n",
       "   Zip Code   Latitude   Longitude  Number of Referrals  ...  Payment Method  \\\n",
       "0     93225  34.827662 -118.999073                    2  ...               1   \n",
       "1     91206  34.162515 -118.203869                    0  ...               1   \n",
       "2     92627  33.645672 -117.922613                    0  ...               0   \n",
       "3     94553  38.014457 -122.115432                    1  ...               0   \n",
       "4     93010  34.227846 -119.079903                    3  ...               1   \n",
       "\n",
       "   Monthly Charge  Total Charges  Total Refunds  Total Extra Data Charges  \\\n",
       "0            65.6         593.30           0.00                         0   \n",
       "1             4.0         542.40          38.33                        10   \n",
       "2            73.9         280.85           0.00                         0   \n",
       "3            98.0        1237.85           0.00                         0   \n",
       "4            83.9         267.40           0.00                         0   \n",
       "\n",
       "   Total Long Distance Charges  Total Revenue  Customer Status  \\\n",
       "0                       381.51         974.81                1   \n",
       "1                        96.21         610.28                1   \n",
       "2                       134.60         415.45                0   \n",
       "3                       361.66        1599.51                0   \n",
       "4                        22.14         289.54                0   \n",
       "\n",
       "    Churn Category                   Churn Reason  \n",
       "0              NaN                            NaN  \n",
       "1              NaN                            NaN  \n",
       "2       Competitor  Competitor had better devices  \n",
       "3  Dissatisfaction        Product dissatisfaction  \n",
       "4  Dissatisfaction            Network reliability  \n",
       "\n",
       "[5 rows x 38 columns]"
      ]
     },
     "execution_count": 39,
     "metadata": {},
     "output_type": "execute_result"
    }
   ],
   "source": [
    "#since there are negative values in Monthly charge lets get the absolute value \n",
    "df[\"Monthly Charge\"] = df[\"Monthly Charge\"].abs()\n",
    "df.head()"
   ]
  },
  {
   "cell_type": "markdown",
   "id": "fccbed2f",
   "metadata": {},
   "source": [
    "It is important to note that the values encoded are with respect to thier sizes ascending order e.g since we have more males than females, female takes the value 0 and males take 1."
   ]
  },
  {
   "cell_type": "markdown",
   "id": "b2a10de7",
   "metadata": {},
   "source": [
    "MODEL BUILDING AND SELECTION"
   ]
  },
  {
   "cell_type": "code",
   "execution_count": 40,
   "id": "ea328706",
   "metadata": {},
   "outputs": [],
   "source": [
    "#Lets remove columns we dont need in our model\n",
    "df = df.drop([\"Customer ID\", \"City\", \"Zip Code\", \"Churn Category\", \"Churn Reason\", \"Longitude\", \"Latitude\", \"Number of Referrals\"], axis = 1)"
   ]
  },
  {
   "cell_type": "code",
   "execution_count": 41,
   "id": "d9045f72",
   "metadata": {},
   "outputs": [
    {
     "data": {
      "text/plain": [
       "(7043, 30)"
      ]
     },
     "execution_count": 41,
     "metadata": {},
     "output_type": "execute_result"
    }
   ],
   "source": [
    "df.shape"
   ]
  },
  {
   "cell_type": "code",
   "execution_count": 42,
   "id": "46af2d1c",
   "metadata": {},
   "outputs": [
    {
     "name": "stdout",
     "output_type": "stream",
     "text": [
      "(5000, 30)\n",
      "(2043, 30)\n"
     ]
    }
   ],
   "source": [
    "#Lets divide our data into training set and test set\n",
    "train = df[:5000]\n",
    "test = df[5000: 7043]\n",
    "print(train.shape)\n",
    "print(test.shape)"
   ]
  },
  {
   "cell_type": "code",
   "execution_count": 43,
   "id": "797ea7a1",
   "metadata": {},
   "outputs": [],
   "source": [
    "#Define x and y variables \n",
    "x = train.drop(\"Customer Status\", axis = 1)\n",
    "y = train[\"Customer Status\"]"
   ]
  },
  {
   "cell_type": "code",
   "execution_count": 44,
   "id": "cb8abee1",
   "metadata": {},
   "outputs": [
    {
     "name": "stdout",
     "output_type": "stream",
     "text": [
      "(3500, 29)\n",
      "(1500, 29)\n",
      "(3500,)\n",
      "(1500,)\n"
     ]
    }
   ],
   "source": [
    "#split training set for training and testing\n",
    "x_train, x_test,y_train, y_test = train_test_split(x, y,test_size = 0.3, random_state = 42)\n",
    "print(x_train.shape)\n",
    "print(x_test.shape)\n",
    "print(y_train.shape)\n",
    "print(y_test.shape)"
   ]
  },
  {
   "cell_type": "code",
   "execution_count": 45,
   "id": "4e2b17b7",
   "metadata": {},
   "outputs": [
    {
     "name": "stderr",
     "output_type": "stream",
     "text": [
      "C:\\Users\\elegb\\New folder\\lib\\site-packages\\sklearn\\linear_model\\_logistic.py:763: ConvergenceWarning: lbfgs failed to converge (status=1):\n",
      "STOP: TOTAL NO. of ITERATIONS REACHED LIMIT.\n",
      "\n",
      "Increase the number of iterations (max_iter) or scale the data as shown in:\n",
      "    https://scikit-learn.org/stable/modules/preprocessing.html\n",
      "Please also refer to the documentation for alternative solver options:\n",
      "    https://scikit-learn.org/stable/modules/linear_model.html#logistic-regression\n",
      "  n_iter_i = _check_optimize_result(\n"
     ]
    },
    {
     "data": {
      "text/plain": [
       "LogisticRegression()"
      ]
     },
     "execution_count": 45,
     "metadata": {},
     "output_type": "execute_result"
    }
   ],
   "source": [
    "#Logistic Regression\n",
    "from sklearn.linear_model import LogisticRegression\n",
    "log_reg = LogisticRegression()\n",
    "# fit the model\n",
    "log_reg.fit(x_train, y_train)"
   ]
  },
  {
   "cell_type": "code",
   "execution_count": 46,
   "id": "98949ad8",
   "metadata": {},
   "outputs": [],
   "source": [
    "#make prediction using the model\n",
    "y_pred = log_reg.predict(x_test)"
   ]
  },
  {
   "cell_type": "code",
   "execution_count": 47,
   "id": "6806ea3f",
   "metadata": {},
   "outputs": [],
   "source": [
    "#bring our 2043 test set and use it to predict using the model\n",
    "test_data =test.drop(\"Customer Status\", axis = 1)\n",
    "#make prediction using our test setl\n",
    "y_pred = log_reg.predict(test_data)"
   ]
  },
  {
   "cell_type": "code",
   "execution_count": 48,
   "id": "7df7652f",
   "metadata": {},
   "outputs": [
    {
     "data": {
      "text/plain": [
       "array([[ 276,  240],\n",
       "       [ 150, 1377]], dtype=int64)"
      ]
     },
     "execution_count": 48,
     "metadata": {},
     "output_type": "execute_result"
    }
   ],
   "source": [
    "#confusion matrix of our test set\n",
    "confusion_matrix(test[\"Customer Status\"], y_pred)"
   ]
  },
  {
   "cell_type": "markdown",
   "id": "6e882fa9",
   "metadata": {},
   "source": [
    "using our test data to test the model.\n",
    "Taking 1 to be Stayed and 0 to be Churned.\n",
    "True positive: 276(Upper left)- Number of Churned we predicted correctly.\n",
    "True Negative: 1377(lower right) - Number of Stayed we predicted correctly.\n",
    "False positive: 240(Upper right)- Number of Churned we predicted wrongly.\n",
    "False Negative: 150(lower left) - Number of Stayed we predicted wrongly."
   ]
  },
  {
   "cell_type": "code",
   "execution_count": 49,
   "id": "2857fb23",
   "metadata": {},
   "outputs": [
    {
     "data": {
      "text/plain": [
       "0.8091042584434655"
      ]
     },
     "execution_count": 49,
     "metadata": {},
     "output_type": "execute_result"
    }
   ],
   "source": [
    "from sklearn.metrics import accuracy_score\n",
    "accuracy_score(test[\"Customer Status\"], y_pred)"
   ]
  },
  {
   "cell_type": "markdown",
   "id": "ae18d999",
   "metadata": {},
   "source": [
    "Our Logistic Regression model has an accuracy of 80.9% on the test set."
   ]
  },
  {
   "cell_type": "code",
   "execution_count": 50,
   "id": "9882e275",
   "metadata": {},
   "outputs": [],
   "source": [
    "#Random forest \n",
    "from sklearn.ensemble import RandomForestClassifier\n",
    "model = RandomForestClassifier(n_estimators =1300, random_state = 0)\n",
    "model.fit(x_train, y_train)\n",
    "y_pred = model.predict(x_test)"
   ]
  },
  {
   "cell_type": "code",
   "execution_count": 51,
   "id": "7b7690f6",
   "metadata": {},
   "outputs": [
    {
     "data": {
      "text/plain": [
       "array([[ 331,  185],\n",
       "       [ 134, 1393]], dtype=int64)"
      ]
     },
     "execution_count": 51,
     "metadata": {},
     "output_type": "execute_result"
    }
   ],
   "source": [
    "#predict with our test set\n",
    "y_pred =model.predict(test_data)\n",
    "confusion_matrix(test[\"Customer Status\"], y_pred)"
   ]
  },
  {
   "cell_type": "markdown",
   "id": "e293256c",
   "metadata": {},
   "source": [
    "using our test data to test the model.\n",
    "Taking 1 to be Stayed and 0 to be Churned.\n",
    "True positive: 331(Upper left)- Number of Churned we predicted correctly.\n",
    "True Negative: 1393(lower right) - Number of Stayed we predicted correctly.\n",
    "False positive: 185(Upper right)- Number of Churned we predicted wrongly.\n",
    "False Negative: 134(lower left) - Number of Stayed we predicted wrongly."
   ]
  },
  {
   "cell_type": "code",
   "execution_count": 52,
   "id": "2d3ceba8",
   "metadata": {},
   "outputs": [
    {
     "data": {
      "text/plain": [
       "0.8438570729319628"
      ]
     },
     "execution_count": 52,
     "metadata": {},
     "output_type": "execute_result"
    }
   ],
   "source": [
    "accuracy_score(test[\"Customer Status\"], y_pred)"
   ]
  },
  {
   "cell_type": "markdown",
   "id": "05aee245",
   "metadata": {},
   "source": [
    "The accuracy of our random forest model is 84.4% on the test set."
   ]
  },
  {
   "cell_type": "code",
   "execution_count": 53,
   "id": "0d9ad7f1",
   "metadata": {},
   "outputs": [],
   "source": [
    "#K Nearest Neighbours\n",
    "from sklearn.neighbors import KNeighborsClassifier\n",
    "model = KNeighborsClassifier(n_neighbors = 71)\n",
    "model.fit(x_train, y_train)\n",
    "y_pred = model.predict(x_test)"
   ]
  },
  {
   "cell_type": "code",
   "execution_count": 54,
   "id": "f70cd722",
   "metadata": {
    "scrolled": true
   },
   "outputs": [
    {
     "data": {
      "text/plain": [
       "array([[ 117,  399],\n",
       "       [  65, 1462]], dtype=int64)"
      ]
     },
     "execution_count": 54,
     "metadata": {},
     "output_type": "execute_result"
    }
   ],
   "source": [
    "y_pred =model.predict(test_data)\n",
    "confusion_matrix(test[\"Customer Status\"], y_pred)"
   ]
  },
  {
   "cell_type": "markdown",
   "id": "1049638b",
   "metadata": {},
   "source": [
    "using our test data to test the model.\n",
    "Taking 1 to be Stayed and 0 to be Churned.\n",
    "True positive: 117(Upper left)- Number of Churned we predicted correctly.\n",
    "True Negative: 1462(lower right) - Number of Stayed we predicted correctly.\n",
    "False positive: 399(Upper right)- Number of Churned we predicted wrongly.\n",
    "False Negative: 65(lower left) - Number of Stayed we predicted wrongly."
   ]
  },
  {
   "cell_type": "code",
   "execution_count": 55,
   "id": "67fdb8c0",
   "metadata": {},
   "outputs": [
    {
     "data": {
      "text/plain": [
       "0.7728830151737641"
      ]
     },
     "execution_count": 55,
     "metadata": {},
     "output_type": "execute_result"
    }
   ],
   "source": [
    "accuracy_score(test[\"Customer Status\"], y_pred)"
   ]
  },
  {
   "cell_type": "markdown",
   "id": "bb4b50e0",
   "metadata": {},
   "source": [
    "The accuracy of our KNN model on the test set is 77.3%"
   ]
  },
  {
   "cell_type": "code",
   "execution_count": 56,
   "id": "d5b9ce4a",
   "metadata": {},
   "outputs": [],
   "source": [
    "#Support vector machines (SVM)\n",
    "from sklearn import svm\n",
    "model = svm.SVC()\n",
    "model.fit(x_train, y_train)\n",
    "y_pred = model.predict(x_test)"
   ]
  },
  {
   "cell_type": "code",
   "execution_count": 57,
   "id": "28778654",
   "metadata": {},
   "outputs": [
    {
     "data": {
      "text/plain": [
       "array([[   0,  516],\n",
       "       [   0, 1527]], dtype=int64)"
      ]
     },
     "execution_count": 57,
     "metadata": {},
     "output_type": "execute_result"
    }
   ],
   "source": [
    "y_pred =model.predict(test_data)\n",
    "confusion_matrix(test[\"Customer Status\"], y_pred)"
   ]
  },
  {
   "cell_type": "markdown",
   "id": "9f802f38",
   "metadata": {},
   "source": [
    "using our test data to test the model.\n",
    "Taking 1 to be Stayed and 0 to be Churned.\n",
    "True positive: 0(Upper left)- Number of Churned we predicted correctly.\n",
    "True Negative: 1527(lower right) - Number of Stayed we predicted correctly.\n",
    "False positive: 516(Upper right)- Number of Churned we predicted wrongly.\n",
    "False Negative: 0(lower left) - Number of Stayed we predicted wrongly."
   ]
  },
  {
   "cell_type": "code",
   "execution_count": 58,
   "id": "fa37b7d6",
   "metadata": {},
   "outputs": [
    {
     "data": {
      "text/plain": [
       "0.7474302496328928"
      ]
     },
     "execution_count": 58,
     "metadata": {},
     "output_type": "execute_result"
    }
   ],
   "source": [
    "accuracy_score(test[\"Customer Status\"], y_pred)"
   ]
  },
  {
   "cell_type": "markdown",
   "id": "113ccc14",
   "metadata": {},
   "source": [
    "The accuracy of our SVM model on our test set is 74.7%"
   ]
  },
  {
   "cell_type": "code",
   "execution_count": 59,
   "id": "0e9d679e",
   "metadata": {},
   "outputs": [],
   "source": [
    "#Naive Bayes\n",
    "from sklearn.naive_bayes import GaussianNB\n",
    "model = GaussianNB()\n",
    "model.fit(x_train, y_train)\n",
    "y_pred = model.predict(x_test)"
   ]
  },
  {
   "cell_type": "code",
   "execution_count": 60,
   "id": "9562471f",
   "metadata": {},
   "outputs": [
    {
     "data": {
      "text/plain": [
       "array([[ 401,  115],\n",
       "       [ 330, 1197]], dtype=int64)"
      ]
     },
     "execution_count": 60,
     "metadata": {},
     "output_type": "execute_result"
    }
   ],
   "source": [
    "#Confusion matrix\n",
    "y_pred = model.predict(test_data)\n",
    "confusion_matrix(test[\"Customer Status\"], y_pred)"
   ]
  },
  {
   "cell_type": "markdown",
   "id": "edd2c236",
   "metadata": {},
   "source": [
    "using our test data to test the model.\n",
    "Taking 1 to be Stayed and 0 to be Churned.\n",
    "True positive: 401(Upper left)- Number of Churned we predicted correctly.\n",
    "True Negative: 1197(lower right) - Number of Stayed we predicted correctly.\n",
    "False positive: 115(Upper right)- Number of Churned we predicted wrongly.\n",
    "False Negative: 330(lower left) - Number of Stayed we predicted wrongly."
   ]
  },
  {
   "cell_type": "code",
   "execution_count": 61,
   "id": "414e6ddf",
   "metadata": {},
   "outputs": [
    {
     "data": {
      "text/plain": [
       "0.7821830641213902"
      ]
     },
     "execution_count": 61,
     "metadata": {},
     "output_type": "execute_result"
    }
   ],
   "source": [
    "accuracy_score(test[\"Customer Status\"], y_pred)"
   ]
  },
  {
   "cell_type": "markdown",
   "id": "ee88fd36",
   "metadata": {},
   "source": [
    "The accuracy of our Naive Bayes model on the test set is 78.2%"
   ]
  },
  {
   "cell_type": "markdown",
   "id": "1bff6e37",
   "metadata": {},
   "source": [
    "CONCLUSION"
   ]
  },
  {
   "cell_type": "markdown",
   "id": "c3014bf9",
   "metadata": {},
   "source": [
    " After analysing the data and generated neccesary insights, Models are then built whereas the best model is the  RANDOM FOREST MODEL with an accuracy of 84.4% on the test set.\n",
    "\n",
    "predictions with this model are likely to be the most accurate."
   ]
  }
 ],
 "metadata": {
  "kernelspec": {
   "display_name": "Python 3 (ipykernel)",
   "language": "python",
   "name": "python3"
  },
  "language_info": {
   "codemirror_mode": {
    "name": "ipython",
    "version": 3
   },
   "file_extension": ".py",
   "mimetype": "text/x-python",
   "name": "python",
   "nbconvert_exporter": "python",
   "pygments_lexer": "ipython3",
   "version": "3.9.7"
  }
 },
 "nbformat": 4,
 "nbformat_minor": 5
}
